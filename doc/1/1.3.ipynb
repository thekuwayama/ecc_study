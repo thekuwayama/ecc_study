{
 "cells": [
  {
   "cell_type": "markdown",
   "metadata": {},
   "source": [
    "## 1.3 楕円曲線の定義方程式"
   ]
  },
  {
   "cell_type": "markdown",
   "metadata": {},
   "source": [
    "> 方程式\n",
    "> $$ y^2 = x^3 + ax + b (a, b \\in F_p, \\Delta E = 4a^3 + 27b^2 \\neq 0) $$\n",
    "> で定義される曲線を素体 $ F_p $ 上の楕円曲線 (elliptic curve) という。"
   ]
  },
  {
   "cell_type": "markdown",
   "metadata": {},
   "source": [
    "素体 $ F_7 $ 上の楕円曲線 $ y^2 = x^3 + 3x + 4 $ の 10 個の $ F_7 $ 有理点は"
   ]
  },
  {
   "cell_type": "markdown",
   "metadata": {},
   "source": [
    "<img src=\"1.15.png\">"
   ]
  },
  {
   "cell_type": "code",
   "execution_count": 2,
   "metadata": {},
   "outputs": [
    {
     "name": "stdout",
     "output_type": "stream",
     "text": [
      "(x, y**2) = (0, 4)\n",
      "(x, y**2) = (1, 8)\n",
      "(x, y**2) = (2, 18)\n",
      "(x, y**2) = (3, 40)\n",
      "(x, y**2) = (4, 80)\n",
      "(x, y**2) = (5, 144)\n",
      "(x, y**2) = (6, 238)\n"
     ]
    },
    {
     "data": {
      "text/plain": [
       "0..6"
      ]
     },
     "execution_count": 2,
     "metadata": {},
     "output_type": "execute_result"
    }
   ],
   "source": [
    "def f(x)\n",
    "  x**3 + 3 * x + 4\n",
    "end\n",
    "\n",
    "(0..6).each do |x|\n",
    "  puts(format(\"(x, y**2) = (%d, %d)\", x, f(x)))\n",
    "end"
   ]
  },
  {
   "cell_type": "code",
   "execution_count": 12,
   "metadata": {},
   "outputs": [
    {
     "data": {
      "text/plain": [
       "1"
      ]
     },
     "execution_count": 12,
     "metadata": {},
     "output_type": "execute_result"
    }
   ],
   "source": [
    "8 - 7"
   ]
  },
  {
   "cell_type": "code",
   "execution_count": 20,
   "metadata": {},
   "outputs": [
    {
     "data": {
      "text/plain": [
       "1"
      ]
     },
     "execution_count": 20,
     "metadata": {},
     "output_type": "execute_result"
    }
   ],
   "source": [
    "(-1)**2 # F_7 において -1 == 6"
   ]
  },
  {
   "cell_type": "code",
   "execution_count": 14,
   "metadata": {},
   "outputs": [
    {
     "data": {
      "text/plain": [
       "4"
      ]
     },
     "execution_count": 14,
     "metadata": {},
     "output_type": "execute_result"
    }
   ],
   "source": [
    "18 - 7 * 2"
   ]
  },
  {
   "cell_type": "code",
   "execution_count": 21,
   "metadata": {},
   "outputs": [
    {
     "data": {
      "text/plain": [
       "4"
      ]
     },
     "execution_count": 21,
     "metadata": {},
     "output_type": "execute_result"
    }
   ],
   "source": [
    "(-2)**2 # F_7 において -2 == 5"
   ]
  },
  {
   "cell_type": "code",
   "execution_count": 16,
   "metadata": {},
   "outputs": [
    {
     "data": {
      "text/plain": [
       "5"
      ]
     },
     "execution_count": 16,
     "metadata": {},
     "output_type": "execute_result"
    }
   ],
   "source": [
    "40 - 7 * 5 # x = 3 の有理点は無い"
   ]
  },
  {
   "cell_type": "code",
   "execution_count": 17,
   "metadata": {},
   "outputs": [
    {
     "data": {
      "text/plain": [
       "3"
      ]
     },
     "execution_count": 17,
     "metadata": {},
     "output_type": "execute_result"
    }
   ],
   "source": [
    "80 - 7 * 11 # x = 4 の有理点は無い"
   ]
  },
  {
   "cell_type": "code",
   "execution_count": 18,
   "metadata": {},
   "outputs": [
    {
     "data": {
      "text/plain": [
       "0"
      ]
     },
     "execution_count": 18,
     "metadata": {},
     "output_type": "execute_result"
    }
   ],
   "source": [
    "238 - 7 * 34"
   ]
  },
  {
   "cell_type": "code",
   "execution_count": 19,
   "metadata": {},
   "outputs": [
    {
     "data": {
      "text/plain": [
       "0"
      ]
     },
     "execution_count": 19,
     "metadata": {},
     "output_type": "execute_result"
    }
   ],
   "source": [
    "0**2"
   ]
  },
  {
   "cell_type": "markdown",
   "metadata": {},
   "source": [
    "| 点 | 座標 | 点 | 座標 |\n",
    "|-----------|-----|----|----|\n",
    "| $ P_0 $ | 　 | O |   |\n",
    "| $ P_1 $ | (0, 2) | $ P_9 $ |  (0, 5) |\n",
    "| $ P_2 $ | (1, 1) | $ P_8 $ |  (1, 6) |\n",
    "| $ P_3 $ | (2, 2) | $ P_7 $ |  (2, 5) |\n",
    "| $ P_4 $ | (5, 2) | $ P_6 $ |  (5, 5) |\n",
    "| $ P_5 $ | 　 | (6, 0) | 　 |"
   ]
  }
 ],
 "metadata": {
  "kernelspec": {
   "display_name": "Ruby 2.6.3",
   "language": "ruby",
   "name": "ruby"
  },
  "language_info": {
   "file_extension": ".rb",
   "mimetype": "application/x-ruby",
   "name": "ruby",
   "version": "2.6.3"
  }
 },
 "nbformat": 4,
 "nbformat_minor": 2
}
