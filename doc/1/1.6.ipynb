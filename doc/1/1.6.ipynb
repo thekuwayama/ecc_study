{
 "cells": [
  {
   "cell_type": "markdown",
   "metadata": {},
   "source": [
    "## 1.6 スカラー倍算"
   ]
  },
  {
   "cell_type": "markdown",
   "metadata": {},
   "source": [
    "| \\ | $ P_0 $ | $ P_1 $ | $ P_2 $ | $ P_3 $ | $ P_4 $ | $ P_5 $ | $ P_6 $ | $ P_7 $ | $ P_8 $ | $ P_9 $ |\n",
    "|----|----|----|----|----|----|----|----|----|----|----|\n",
    "| $ P_0 $ | $ P_0 $ | $ P_1 $ | $ P_2 $ | $ P_3 $ | $ P_4 $ | $ P_5 $ | $ P_6 $ | $ P_7 $ | $ P_8 $ | $ P_9 $ |\n",
    "| $ P_1 $ | $ P_1 $ | $ P_8 $ | $ P_9 $ | $ P_6 $ | $ P_7 $ | $ P_4 $ | $ P_5 $ | $ P_3 $ | $ P_2 $ | $ P_0 $ |\n",
    "| $ P_2 $ | $ P_2 $ | $ P_9 $ | $ P_1 $ | $ P_4 $ | $ P_6 $ | $ P_3 $ | $ P_7 $ | $ P_5 $ | $ P_0 $ | $ P_8 $ |\n",
    "| $ P_3 $ | $ P_3 $ | $ P_6 $ | $ P_4 $ | $ P_1 $ | $ P_9 $ | $ P_2 $ | $ P_8 $ | $ P_0 $ | $ P_5 $ | $ P_7 $ |\n",
    "| $ P_4 $ | $ P_4 $ | $ P_7 $ | $ P_6 $ | $ P_9 $ | $ P_8 $ | $ P_1 $ | $ P_0 $ | $ P_2 $ | $ P_3 $ | $ P_5 $ |\n",
    "| $ P_5 $ | $ P_5 $ | $ P_4 $ | $ P_3 $ | $ P_2 $ | $ P_1 $ | $ P_0 $ | $ P_9 $ | $ P_8 $ | $ P_7 $ | $ P_6 $ |\n",
    "| $ P_6 $ | $ P_6 $ | $ P_5 $ | $ P_7 $ | $ P_8 $ | $ P_0 $ | $ P_9 $ | $ P_2 $ | $ P_1 $ | $ P_4 $ | $ P_3 $ |\n",
    "| $ P_7 $ | $ P_7 $ | $ P_3 $ | $ P_5 $ | $ P_0 $ | $ P_2 $ | $ P_8 $ | $ P_1 $ | $ P_9 $ | $ P_6 $ | $ P_4 $ |\n",
    "| $ P_8 $ | $ P_8 $ | $ P_2 $ | $ P_0 $ | $ P_5 $ | $ P_3 $ | $ P_7 $ | $ P_4 $ | $ P_6 $ | $ P_9 $ | $ P_1 $ |\n",
    "| $ P_9 $ | $ P_9 $ | $ P_0 $ | $ P_8 $ | $ P_7 $ | $ P_5 $ | $ P_6 $ | $ P_3 $ | $ P_4 $ | $ P_1 $ | $ P_2 $ |"
   ]
  },
  {
   "cell_type": "markdown",
   "metadata": {},
   "source": [
    "$ 2 \\times P_1 = P_1 + P_1 = P_8 $"
   ]
  },
  {
   "cell_type": "markdown",
   "metadata": {},
   "source": [
    "$ 3 \\times P_1 = P_8 + P_1 = P_2 $"
   ]
  },
  {
   "cell_type": "markdown",
   "metadata": {},
   "source": [
    "$ 4 \\times P_1 = P_2 + P_1 = P_9 $"
   ]
  },
  {
   "cell_type": "markdown",
   "metadata": {},
   "source": [
    "$ 5 \\times P_1 = P_9 + P_1 = P_0 $"
   ]
  },
  {
   "cell_type": "markdown",
   "metadata": {},
   "source": [
    "$ 6 \\times P_1 = P_0 + P_1 = P_1 $"
   ]
  },
  {
   "cell_type": "markdown",
   "metadata": {},
   "source": [
    "$ 7 \\times P_1 = P_1 + P_1 = P_8 $"
   ]
  },
  {
   "cell_type": "markdown",
   "metadata": {},
   "source": [
    "$ P_1 $ の点位数は $ 5 \\times P_1 = O $ なので\n",
    "\n",
    "$ \\Rightarrow 5 $\n",
    "\n",
    "\n",
    "素体 $ F_7 $ 上の楕円曲線 $ y^2 = x^3 + 3x + 4 $ の群位数 10 なので $ P_1 $ の点位数が群位数の約数でもあることが確認できた。"
   ]
  },
  {
   "cell_type": "markdown",
   "metadata": {},
   "source": [
    "> スカラー倍算 $ d \\times P $ について、$ d = 8 $ のとき単純には\n",
    "> \n",
    "> $ 8 \\times P = P + P + P + P + P + P + P + P $\n",
    "> \n",
    "> のように加法公式を 7 回適用することで計算できます。しかし\n",
    "> \n",
    "> $ 8 \\times P = 2 \\times (2 \\times (2 \\times P)) $\n",
    "> \n",
    "> と表せることを利用すれば、3 回の加法公式の適用で計算できます。この考え方を発展させることで、スカラー倍算を効率的に計算するバイナリ方というものがあります。"
   ]
  },
  {
   "cell_type": "markdown",
   "metadata": {},
   "source": [
    "> $ P, d = (1, d_{n-2},...,d_1, d_0)_2 $\n",
    "> 1. $ Q \\leftarrow P $\n",
    "> 2. $ i $ について\n",
    "> 2.1. $ Q \\leftarrow 2 \\times Q $\n",
    "> 2.2. $ d_i = 1 $ ならば $ Q \\leftarrow Q + P $\n",
    "> 3. Q を返す"
   ]
  },
  {
   "cell_type": "markdown",
   "metadata": {},
   "source": [
    "バイナリ法を用いて $ d = 182 = (10110110)_2 $ のスカラー倍算を計算してみる。\n",
    "\n",
    "| i         | 7 | 6 | 5 | 4 | 3 | 2 | 1 | 0 |\n",
    "|---|---|---|---|---|---|---|---|----|\n",
    "| $ d_i $ | 1 | 0 | 1 | 1 | 0 | 1 | 1 | 0 |\n",
    "| 2.1 の処理前 | - | Q | 2Q | 5Q | 11Q | 22Q | 45Q | 91Q |\n",
    "| 2.1 の処理後 | - | 2Q | 4Q | 10Q | 22Q | 44Q | 90Q | 182Q |\n",
    "| 2.2 の処理後 | - | 2Q | 5Q | 11Q | 22Q | 45Q | 91Q | 182Q |"
   ]
  }
 ],
 "metadata": {
  "kernelspec": {
   "display_name": "Ruby 2.6.3",
   "language": "ruby",
   "name": "ruby"
  },
  "language_info": {
   "file_extension": ".rb",
   "mimetype": "application/x-ruby",
   "name": "ruby",
   "version": "2.6.3"
  }
 },
 "nbformat": 4,
 "nbformat_minor": 2
}
