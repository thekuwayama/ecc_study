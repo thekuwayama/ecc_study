{
 "cells": [
  {
   "cell_type": "markdown",
   "metadata": {},
   "source": [
    "## 1.4 加法公式"
   ]
  },
  {
   "cell_type": "markdown",
   "metadata": {},
   "source": [
    "* 楕円曲線上の有理点同士の加算・減算を計算することが可能\n",
    "* 加算の計算ルールは、単に $ x $ 座標 $ y $ 座標同士を足し合わせる訳では無い"
   ]
  },
  {
   "cell_type": "markdown",
   "metadata": {},
   "source": [
    "> 素体 $ F_{ \\rho } $ 上の楕円曲線 $ y^2 = x^3 + ax + b $ 上の 2 点 $ P, Q (\\neq O) $ の和 $ R = P + Q $ は\n",
    "> \n",
    "> 1. 2点 $ P, Q $ を通る直線($ P = Q $ の場合には $ P $ を通る接戦) $ {\\cal l } $ を引く\n",
    "> 2. 楕円曲線と直線 $ {\\cal l } $ の 3 つ目の交点を $ R' $ とする\n",
    "> 3. $ R' $ の $ x $ 軸に関する対称点を $ R $ とする ($ R' = O $ の場合には $ R = O $ とする)\n",
    "> \n",
    "> (3) で得られた $ R' $ を $ R $ の逆元と呼び、$ R' = -R $ と書く。$ R = (x, y) $ ならば、$ R' = (x, -y) $ となる。"
   ]
  },
  {
   "cell_type": "markdown",
   "metadata": {},
   "source": [
    "<img src=\"1.18.png\">"
   ]
  },
  {
   "cell_type": "markdown",
   "metadata": {},
   "source": [
    "| 点 | 座標 | 逆元の座標 | 逆元 | 点 | 座標 | 逆元の座標 | 逆元 |\n",
    "|----|-------|--------------|-------|----|-------|---------------|------|\n",
    "| $ P_0 $ | O | - | O | 　 | 　 | 　 | 　 |\n",
    "| $ P_1 $ | (0, 2) | (0, 5) | $ P_9 $ | $ P_9 $ | (0, 5) | (0, 2) | $ P_1 $ |\n",
    "| $ P_2 $ | (1, 1) | (1, 6) | $ P_8 $ | $ P_8 $ | (1, 6) | (1, 1) | $ P_2 $ |\n",
    "| $ P_3 $ | (2, 2) | (2, 5) | $ P_7 $ | $ P_7 $ | (2, 5) | (2, 2) | $ P_3 $ |\n",
    "| $ P_4 $ | (5, 2) | (5, 5) | $ P_6 $ | $ P_6 $ | (5, 5) | (5, 5) | $ P_4 $ |\n",
    "| $ P_5 $ | (6, 0) | (6, 0) | $ P_5 $ | 　 | 　 | 　 | 　 |"
   ]
  },
  {
   "cell_type": "code",
   "execution_count": null,
   "metadata": {},
   "outputs": [],
   "source": []
  }
 ],
 "metadata": {
  "kernelspec": {
   "display_name": "Ruby 2.6.3",
   "language": "ruby",
   "name": "ruby"
  },
  "language_info": {
   "file_extension": ".rb",
   "mimetype": "application/x-ruby",
   "name": "ruby",
   "version": "2.6.3"
  }
 },
 "nbformat": 4,
 "nbformat_minor": 2
}
