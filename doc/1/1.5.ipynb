{
 "cells": [
  {
   "cell_type": "markdown",
   "metadata": {},
   "source": [
    "## 1.5 有理点のなす群"
   ]
  },
  {
   "cell_type": "code",
   "execution_count": 1,
   "metadata": {},
   "outputs": [
    {
     "name": "stdout",
     "output_type": "stream",
     "text": [
      "(x, y**2) = (0, 4)\n",
      "(x, y**2) = (1, 8)\n",
      "(x, y**2) = (2, 18)\n",
      "(x, y**2) = (3, 40)\n",
      "(x, y**2) = (4, 80)\n",
      "(x, y**2) = (5, 144)\n",
      "(x, y**2) = (6, 238)\n"
     ]
    },
    {
     "data": {
      "text/plain": [
       "0..6"
      ]
     },
     "execution_count": 1,
     "metadata": {},
     "output_type": "execute_result"
    }
   ],
   "source": [
    "def f(x)\n",
    "  x**3 + 3 * x + 4\n",
    "end\n",
    "\n",
    "(0..6).each do |x|\n",
    "  puts(format(\"(x, y**2) = (%d, %d)\", x, f(x)))\n",
    "end"
   ]
  },
  {
   "cell_type": "markdown",
   "metadata": {},
   "source": [
    "* $ 4 = (\\pm 2)^2 $\n",
    "    * $ (0, 2) $\n",
    "    * $ (0, -2) = (0, 5) $\n",
    "* $ 8 = 1 = (\\pm 1)^2 $\n",
    "    * $ (1, 1) $\n",
    "    * $ (1, -1) = (1, 6) $\n",
    "* $ 18 = 4 = (\\pm 2)^2 $\n",
    "    * $ (2, 2) $\n",
    "    * $ (2, -2) = (2, 5) $\n",
    "* ~~40 = 5~~\n",
    "* ~~80 = 3~~\n",
    "* $ 144 = 4 = (\\pm 2)^2 $\n",
    "    * $ (5, 2) $\n",
    "    * $ (5, -2) = (5, 5) $\n",
    "* 238 = 0\n",
    "    * $ (6, 0) $\n",
    "\n",
    "$ \\Rightarrow $ 素体 $ F_7 $ 上の楕円曲線 $ y^2 = x^3 + 3x + 4 $ の群位数は 10\n",
    "\n",
    "(無限遠点をカウント)"
   ]
  },
  {
   "cell_type": "markdown",
   "metadata": {},
   "source": [
    "> 素体 $ F_p $ 上の楕円曲線 E の群位数 $ \\#E $ は\n",
    "> $$ p + 1 - 2 \\sqrt[]{\\mathstrut p} \\leq \\#E \\leq p + 1 + 2 \\sqrt[]{\\mathstrut p} $$"
   ]
  },
  {
   "cell_type": "markdown",
   "metadata": {},
   "source": [
    "$ F_7 $ 上の楕円曲線 $ y^2 = x^3 + 3x + 4 $ について考える。"
   ]
  },
  {
   "cell_type": "code",
   "execution_count": 2,
   "metadata": {},
   "outputs": [
    {
     "data": {
      "text/plain": [
       "true"
      ]
     },
     "execution_count": 2,
     "metadata": {},
     "output_type": "execute_result"
    }
   ],
   "source": [
    "E = 10\n",
    "p = 7\n",
    "p + 1 - 2 * Math.sqrt(p) <= E && E <= p + 1 + 2 * Math.sqrt(p)"
   ]
  }
 ],
 "metadata": {
  "kernelspec": {
   "display_name": "Ruby 2.6.3",
   "language": "ruby",
   "name": "ruby"
  },
  "language_info": {
   "file_extension": ".rb",
   "mimetype": "application/x-ruby",
   "name": "ruby",
   "version": "2.6.3"
  }
 },
 "nbformat": 4,
 "nbformat_minor": 2
}
