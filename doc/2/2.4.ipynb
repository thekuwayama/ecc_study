{
 "cells": [
  {
   "cell_type": "markdown",
   "metadata": {},
   "source": [
    "## 2.4 ECDH 鍵共有"
   ]
  },
  {
   "cell_type": "markdown",
   "metadata": {},
   "source": [
    "> (ECDH 鍵共有) Alice と Bob は 素体 F_p 上の楕円曲線 $ E $ と曲線上の点 $ P $ を共通のパラメータとして知っているものとする。Alice と Bob は以下のようにやりとりすることで、共通の暗号鍵 $ K_A = K_B $ を共有することができる。\n",
    "> \n",
    "> 1. Alice は乱数 $ r_A $ を生成し、スカラー倍点 $ R_A = r_A \\times P $ を Bob に送る。\n",
    "> 2. Bob は乱数 $ r_B $ を生成し、スカラー倍点 $ R_B = r_B \\times P $ を Alice に送る。\n",
    "> 3. 点 $ R_B $ を受け取った Alice は点 $ K_A = r_A \\times R_B $ を計算し、暗号鍵として用いる。\n",
    "> 4. 点 $ R_A $ を受け取った Bob は 点 $ K_B = r_B \\times R_A $ を計算し、暗号鍵として用いる。"
   ]
  },
  {
   "cell_type": "markdown",
   "metadata": {},
   "source": [
    "素体 $ F_7 $ 上の楕円曲線 $ y^2 = x^3 + 3x + 4 $ において、$ P = P_1 $ とするとき、$ r_A = 2 $ , $ r_B = 4 $ として考える。"
   ]
  },
  {
   "cell_type": "markdown",
   "metadata": {},
   "source": [
    "| \\ | $ P_0 $ | $ P_1 $ | $ P_2 $ | $ P_3 $ | $ P_4 $ | $ P_5 $ | $ P_6 $ | $ P_7 $ | $ P_8 $ | $ P_9 $ |\n",
    "|----|----|----|----|----|----|----|----|----|----|----|\n",
    "| $ P_0 $ | $ P_0 $ | - | - | - | - | - | - | - | - | - |\n",
    "| $ P_1 $ | - | $ P_8 $ | - | - | - | - | - | - | - | - |\n",
    "| $ P_2 $ | - | - | $ P_1 $ | - | - | - | - | - | - | - |\n",
    "| $ P_3 $ | - | - | - | $ P_1 $ | - | - | - | - | - | - |\n",
    "| $ P_4 $ | - | - | - | - | $ P_8 $ | - | - | - | - | - |\n",
    "| $ P_5 $ | - | - | - | - | - | $ P_0 $ | - | - | - | - |\n",
    "| $ P_6 $ | - | - | - | - | - | - | $ P_2 $ | - | - | - |\n",
    "| $ P_7 $ | - | - | - | - | - | - | - | $ P_9 $ | - | - |\n",
    "| $ P_8 $ | - | - | - | - | - | - | - | - | $ P_9 $ | - |\n",
    "| $ P_9 $ | - | - | - | - | - | - | - | - | - | $ P_2 $ |\n",
    "\n",
    "バイナリ法を用いて分解してから、加算公式(上記の表1.7を省略したもの)を用いて計算した。"
   ]
  },
  {
   "cell_type": "markdown",
   "metadata": {},
   "source": [
    "$ R_A = r_A \\times P_1 = 2 \\times P_1 = P_8 $"
   ]
  },
  {
   "cell_type": "markdown",
   "metadata": {},
   "source": [
    "$ R_B = r_B \\times P_1 = 4 \\times P_1 = 2 \\times (2 \\times P_1) = 2 \\times P_8 = P_9 $"
   ]
  },
  {
   "cell_type": "markdown",
   "metadata": {},
   "source": [
    "$ K_A = r_A \\times R_B = 2 \\times P_9 = P_2 $"
   ]
  },
  {
   "cell_type": "markdown",
   "metadata": {},
   "source": [
    "$ K_B = r_B \\times R_A = 4 \\times P_8 = 2 \\times (2 \\times P_8) = 2 \\times P_9 = P_2 $"
   ]
  },
  {
   "cell_type": "markdown",
   "metadata": {},
   "source": [
    "$ K_A = r_A \\times R_B = r_A \\times (r_B \\times P) = r_B \\times (r_A \\times P) = r_B \\times R_A = K_B $"
   ]
  }
 ],
 "metadata": {
  "kernelspec": {
   "display_name": "Ruby 2.6.3",
   "language": "ruby",
   "name": "ruby"
  },
  "language_info": {
   "file_extension": ".rb",
   "mimetype": "application/x-ruby",
   "name": "ruby",
   "version": "2.6.3"
  }
 },
 "nbformat": 4,
 "nbformat_minor": 2
}
