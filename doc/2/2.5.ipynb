{
 "cells": [
  {
   "cell_type": "markdown",
   "metadata": {},
   "source": [
    "## 2.5 ECElGamal 暗号"
   ]
  },
  {
   "cell_type": "markdown",
   "metadata": {},
   "source": [
    "> (ECElGamal 暗号) Alice と Bob は、素体 $ F_p $ 上の楕円曲線 $ E $ と曲線上の点　$ P $ を共通のパラメータとして知っているとする。以下のように Alice が Bob に暗号文を送信することで、Bob は平文 $ M $ を受信することができる。\n",
    "> \n",
    "> 1. (鍵生成) Bob は乱数 $ d_B $ を生成し、スカラー倍点 $ P_B = d_B \\times P $ を計算する。そして、$ d_B $ を秘密鍵として保管し、$ P_B $ を公開鍵として公開する。\n",
    "> 2. (送信者 Alice による暗号化)\n",
    "> (a) 乱数 $ r $ を生成し、スカラー倍点 $ R = r \\times P $ を計算する\n",
    "> (b) Bob の公開鍵 $ P_B $ を入手し、スカラー倍点 $ K = r \\times P_B $ を計算する\n",
    "> (c) 楕円曲線上の点として表された平文 $ M $ に対し、$ C = M + K $ を計算する\n",
    "> (d) 暗号文として点の組み $ (C, R) $ を Bob に送信する\n",
    "> 3. (受信者 Bob による復号)\n",
    "> (a) 暗号文として点のくみ $ (C, R) $ を受信する\n",
    "> (b) 点 $ R $ と秘密鍵 $ d_B $ から、スカラー倍点 $ K' = d_B \\times R $ を計算する\n",
    "> (c) $ M' = C - K' $ を計算し、平文 $ M' $ を復元する"
   ]
  },
  {
   "cell_type": "markdown",
   "metadata": {},
   "source": [
    "$ K = r \\times P_B = r \\times d_B \\times P = d_B \\times (r \\times P) = d_B \\times R = K' $\n",
    "\n",
    "$ M = C - K $ より $ K = K' $ のとき、$ M = M' $ です。"
   ]
  }
 ],
 "metadata": {
  "kernelspec": {
   "display_name": "Ruby 2.6.3",
   "language": "ruby",
   "name": "ruby"
  },
  "language_info": {
   "file_extension": ".rb",
   "mimetype": "application/x-ruby",
   "name": "ruby",
   "version": "2.6.3"
  }
 },
 "nbformat": 4,
 "nbformat_minor": 2
}
