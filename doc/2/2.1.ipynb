{
 "cells": [
  {
   "cell_type": "markdown",
   "metadata": {},
   "source": [
    "## 2.1 楕円曲線離散対数問題 (ECDLP)"
   ]
  },
  {
   "cell_type": "markdown",
   "metadata": {},
   "source": [
    "> 素体 $ F_p $ 上の楕円曲線 $ E $ において、点 $ P $ と自然数 $ d $ からスカラー倍点 $ Q = d \\times P $ を求める計算は、バイナリ法などを利用することで効率的に計算することが可能です。\n",
    "> \n",
    "> 逆に、点 $ P $ とスカラー倍点 $ Q = d \\times P $ から自然数 $ d (0 \\leq d \\leq {\\cal l }, {\\cal l } $ は点 $ P $ の点位数)を求める問題を **楕円曲線離散対数問題** (elliptic curve discrete logarithm problem, ECDLP) と呼びます。"
   ]
  },
  {
   "cell_type": "markdown",
   "metadata": {},
   "source": [
    "$ P_2 = d \\times P_1 $ について考える。"
   ]
  },
  {
   "cell_type": "markdown",
   "metadata": {},
   "source": [
    "$$ P_2 = P_8 + P_1 = (P_1 + P_1) + P_1 = 3 \\times P_1 $$"
   ]
  },
  {
   "cell_type": "markdown",
   "metadata": {},
   "source": [
    "$ \\Rightarrow d = 3 $"
   ]
  },
  {
   "cell_type": "markdown",
   "metadata": {},
   "source": [
    "> 点位数が大きい場合、楕円曲線離散対数問題を解くことは難しくなり、これまでに知られている最良の解法アルゴリズムでも膨大な時間 (点位数 $ {\\cal l } $ に関する多項式時間) を必要とします。"
   ]
  }
 ],
 "metadata": {
  "kernelspec": {
   "display_name": "Ruby 2.6.3",
   "language": "ruby",
   "name": "ruby"
  },
  "language_info": {
   "file_extension": ".rb",
   "mimetype": "application/x-ruby",
   "name": "ruby",
   "version": "2.6.3"
  }
 },
 "nbformat": 4,
 "nbformat_minor": 2
}
