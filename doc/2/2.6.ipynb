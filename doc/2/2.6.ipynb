{
 "cells": [
  {
   "cell_type": "markdown",
   "metadata": {},
   "source": [
    "## 2.6 ECDSA 署名"
   ]
  },
  {
   "cell_type": "markdown",
   "metadata": {},
   "source": [
    "> (ECDSA 署名) Alice と Bob は、素体 $ F_p $ 上の楕円曲線 $ E $ と曲線上のベースポイント $ P $ とその点位数 $ l $ を共通パラメータとして知っているとする。以下のように Bob が Alice に署名を送ることで、Alice はメッセージ $ m $ の内容を改竄されていないことを検証できる。\n",
    "> \n",
    "> 1. (鍵生成) Bob は乱数 $ d_B $ を生成し、スカラー倍点 $ P_B = d_B \\times P $ を計算する。そして $ d_B $ を秘密鍵として保管し、$ P_B $ を公開鍵として公開する。\n",
    "> 2. (署名者 Bob による署名生成)\n",
    "> (a) 乱数 $ r $ を生成し、スカラー倍点 $ U = r \\times P = (x_U, y_U) $ を計算する\n",
    "> (b) メッセージ $ m $ のハッシュ値 $ H(m) $ を計算する\n",
    "> (c) $ u = x_U \\ {\\rm mod} \\ l, v = \\frac{(H(m) + u \\times d_B)}{r \\ {\\rm mod} \\ l} $ を計算する\n",
    "> (d) メッセージ $ m $ に対する署名としてデータの組み $ (u, v) $ を Alice に送信する\n",
    "> 3. (検証者 Alice による署名検証)\n",
    "> (a) Bob は公開鍵 $ P_B $ をもとに、$ d = \\frac{1}{v \\ {\\rm mod} \\ l} $ を点 $ V = d \\times H(m) \\times P + d \\times u \\times P_B = (x_V, y_V) $ を計算する\n",
    "> (b) $ u = x_V \\ {\\rm mod} \\ l $ ならば署名を受理する"
   ]
  },
  {
   "cell_type": "markdown",
   "metadata": {},
   "source": [
    "$ u = x_V \\ {\\rm mod} \\ l $、$ u = x_U \\ {\\rm mod} \\ l $ なので、$ x_V = x_U $ が検証できれば良いです。\n",
    "\n",
    "$ V = d \\times H(m) \\times P + d \\times u \\times P_B $"
   ]
  },
  {
   "cell_type": "markdown",
   "metadata": {},
   "source": [
    "$    = d \\times H(m) \\times P + d \\times u \\times d_B \\times P $"
   ]
  },
  {
   "cell_type": "markdown",
   "metadata": {},
   "source": [
    "$    = d \\times P \\times (H(m) + u \\times d_B) $"
   ]
  },
  {
   "cell_type": "markdown",
   "metadata": {},
   "source": [
    "$    = \\frac{H(m) + u \\times d_B}{v \\ {\\rm mod} \\ l} \\times P $"
   ]
  },
  {
   "cell_type": "markdown",
   "metadata": {},
   "source": [
    "$    = (H(m) + u \\times d_B) \\times \\frac{r}{H(m) + u \\times d_B} \\times P $"
   ]
  },
  {
   "cell_type": "markdown",
   "metadata": {},
   "source": [
    "$ = r \\times P $"
   ]
  },
  {
   "cell_type": "markdown",
   "metadata": {},
   "source": [
    "$ = U $"
   ]
  }
 ],
 "metadata": {
  "kernelspec": {
   "display_name": "Ruby 2.6.3",
   "language": "ruby",
   "name": "ruby"
  },
  "language_info": {
   "file_extension": ".rb",
   "mimetype": "application/x-ruby",
   "name": "ruby",
   "version": "2.6.3"
  }
 },
 "nbformat": 4,
 "nbformat_minor": 2
}
