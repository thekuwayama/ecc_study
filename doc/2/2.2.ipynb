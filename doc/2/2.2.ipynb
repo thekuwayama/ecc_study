{
 "cells": [
  {
   "cell_type": "markdown",
   "metadata": {},
   "source": [
    "## 2.2 楕円曲線暗号 (ECC)"
   ]
  },
  {
   "cell_type": "markdown",
   "metadata": {},
   "source": [
    "> 楕円曲線離散対数問題の難しさを利用した公開鍵暗号の総称を **楕円曲線暗号** (Elliptic Curve Cryptosystems, ECC) と呼びます。楕円曲線暗号では、自然数 $ d $ を秘密鍵、スカラー倍点 $ d \\times P $ を公開鍵として使用する"
   ]
  },
  {
   "cell_type": "markdown",
   "metadata": {},
   "source": [
    "| 機能 | 方式名 |\n",
    "|-------|---------|\n",
    "| 鍵共有 | 楕円曲線 Diffie-Hellman 鍵共有 (ECDH) <br> 楕円曲線 Menezes-Qu-Vanstone 鍵共有 (ECMQV) |\n",
    "| 暗号 | 楕円曲線 ElGamal 暗号 (ECElGamal) |\n",
    "| 署名 | 楕円曲線 DSA 署名 (ECDSA) |"
   ]
  }
 ],
 "metadata": {
  "kernelspec": {
   "display_name": "Ruby 2.6.3",
   "language": "ruby",
   "name": "ruby"
  },
  "language_info": {
   "file_extension": ".rb",
   "mimetype": "application/x-ruby",
   "name": "ruby",
   "version": "2.6.3"
  }
 },
 "nbformat": 4,
 "nbformat_minor": 2
}
